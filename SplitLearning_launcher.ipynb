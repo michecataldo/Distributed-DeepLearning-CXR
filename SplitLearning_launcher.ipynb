{
  "nbformat": 4,
  "nbformat_minor": 0,
  "metadata": {
    "colab": {
      "name": "SplitLearning_launcher.ipynb",
      "provenance": [],
      "collapsed_sections": []
    },
    "kernelspec": {
      "name": "python3",
      "display_name": "Python 3"
    },
    "accelerator": "GPU"
  },
  "cells": [
    {
      "cell_type": "code",
      "metadata": {
        "colab": {
          "base_uri": "https://localhost:8080/"
        },
        "id": "Rxt7FMX5dZvF",
        "outputId": "22c2bdb7-884b-44dc-cb52-48a50634b8c4"
      },
      "source": [
        "from google.colab import drive\n",
        "drive.mount('/content/drive', force_remount=True)"
      ],
      "execution_count": null,
      "outputs": [
        {
          "output_type": "stream",
          "text": [
            "Mounted at /content/drive\n"
          ],
          "name": "stdout"
        }
      ]
    },
    {
      "cell_type": "code",
      "metadata": {
        "colab": {
          "base_uri": "https://localhost:8080/"
        },
        "id": "i5V4JEEmfUNq",
        "outputId": "346a3469-bb7a-491f-c7ba-b58a5ca7c73f"
      },
      "source": [
        "!pip install --quiet --upgrade tensorflow_federated\n",
        "!pip install nest_asyncio\n",
        "import nest_asyncio\n",
        "nest_asyncio.apply()"
      ],
      "execution_count": null,
      "outputs": [
        {
          "output_type": "stream",
          "text": [
            "\u001b[K     |████████████████████████████████| 583kB 18.9MB/s \n",
            "\u001b[K     |████████████████████████████████| 706kB 32.7MB/s \n",
            "\u001b[K     |████████████████████████████████| 194kB 55.2MB/s \n",
            "\u001b[K     |████████████████████████████████| 174kB 44.5MB/s \n",
            "\u001b[31mERROR: datascience 0.10.6 has requirement folium==0.2.1, but you'll have folium 0.8.3 which is incompatible.\u001b[0m\n",
            "\u001b[?25hRequirement already satisfied: nest_asyncio in /usr/local/lib/python3.7/dist-packages (1.5.1)\n"
          ],
          "name": "stdout"
        }
      ]
    },
    {
      "cell_type": "code",
      "metadata": {
        "id": "qlxJdbxCfWZk"
      },
      "source": [
        "import tensorflow as tf\n",
        "# Evita di allocare tutta la memoria video a tensorflow (Chiamare solo al primo import di tf)\n",
        "physical_devices = tf.config.experimental.list_physical_devices('GPU')\n",
        "if len(physical_devices) > 0:\n",
        "    tf.config.experimental.set_memory_growth(physical_devices[0], True)\n",
        "else:\n",
        "    print(\"No GPU found, model running on CPU\")\n",
        "from split_process import SplitProcess\n",
        "import numpy as np\n",
        "import pandas as pd\n",
        "from tensorflow.keras.applications.mobilenet_v2 import MobileNetV2\n",
        "from tensorflow.keras.applications.mobilenet import MobileNet\n",
        "np.warnings.filterwarnings('ignore', category=np.VisibleDeprecationWarning) \n",
        "\n",
        "SEED = 1234567890\n",
        "tf.random.set_seed(SEED)\n",
        "np.random.seed(SEED)"
      ],
      "execution_count": null,
      "outputs": []
    },
    {
      "cell_type": "code",
      "metadata": {
        "id": "Tp_IYPlBfi-j"
      },
      "source": [
        "# Definizione dei client e dei dataset\n",
        "TAKE_ONLY = None\n",
        "exp_1_config = {\n",
        "    'client_0': {'path':'/content/drive/MyDrive/tfrecords/nolat/Unbalanced/client0_norm.tfrecords'},\n",
        "    'client_1': {'path':'/content/drive/MyDrive/tfrecords/nolat/Unbalanced/client1_norm.tfrecords'},\n",
        "    'client_2': {'path':'/content/drive/MyDrive/tfrecords/nolat/Unbalanced/client2_norm.tfrecords'},\n",
        "    'client_3': {'path':'/content/drive/MyDrive/tfrecords/nolat/Unbalanced/client3_norm.tfrecords'},\n",
        "    'client_4': {'path':'/content/drive/MyDrive/tfrecords/nolat/Unbalanced/client4_norm.tfrecords'},\n",
        "}\n",
        "\n",
        "\n",
        "val_config = {'path': '/content/drive/MyDrive/tfrecords/nolat/Unbalanced/valid_norm.tfrecords'}\n",
        "path = '/content/drive/MyDrive/Modelli_Tesi/NOLAT/Split/Unbalanced_Medium_A'"
      ],
      "execution_count": null,
      "outputs": []
    },
    {
      "cell_type": "code",
      "metadata": {
        "id": "jCZu0wjtfrlA"
      },
      "source": [
        "# Istanzio un nuovo processo\n",
        "sp = SplitProcess(model_name='Split_MobileNet', model_architecture=MobileNet)"
      ],
      "execution_count": null,
      "outputs": []
    },
    {
      "cell_type": "code",
      "metadata": {
        "colab": {
          "base_uri": "https://localhost:8080/"
        },
        "id": "sY4AESK6fz4T",
        "outputId": "525da893-8398-4ab7-a9cc-0bea124b059a"
      },
      "source": [
        "# Inizializzazione\n",
        "sp.setup(exp_1_config, val_config, output_folder=path)"
      ],
      "execution_count": null,
      "outputs": [
        {
          "output_type": "stream",
          "text": [
            "Creating split dataset for 5 clients\n",
            "Builiding model of client_0...\n",
            "Downloading data from https://storage.googleapis.com/tensorflow/keras-applications/mobilenet/mobilenet_1_0_224_tf_no_top.h5\n",
            "17227776/17225924 [==============================] - 0s 0us/step\n",
            "Builiding model of client_1...\n",
            "Builiding model of client_2...\n",
            "Builiding model of client_3...\n",
            "Builiding model of client_4...\n"
          ],
          "name": "stdout"
        }
      ]
    },
    {
      "cell_type": "code",
      "metadata": {
        "id": "laa7c4Ubx5O4"
      },
      "source": [
        "'''\n",
        "iterative training con FINE grain\n",
        ":param split_layer: split layer tra client e server\n",
        ":param epochs: number of epochs\n",
        "'''\n",
        "\n",
        "sp.iterative_training(split_layer=60, epochs=10)"
      ],
      "execution_count": null,
      "outputs": []
    },
    {
      "cell_type": "code",
      "metadata": {
        "id": "6NDBUZBTu9Wi",
        "colab": {
          "base_uri": "https://localhost:8080/"
        },
        "outputId": "b8132d3c-3161-4ad7-8ab3-90ae90fb4234"
      },
      "source": [
        "'''\n",
        "parallel training con MEDIUM grain\n",
        ":param split_layer: split layer tra client e server\n",
        ":param epochs: number of epochs\n",
        "'''\n",
        "\n",
        "sp.parallel_training_medium(split_layer=60, epochs=10)"
      ],
      "execution_count": null,
      "outputs": [
        {
          "output_type": "stream",
          "text": [
            "Start of epoch 0\n",
            "WARNING:tensorflow:5 out of the last 5 calls to <function SplitProcess.train_step at 0x7f1a41077e60> triggered tf.function retracing. Tracing is expensive and the excessive number of tracings could be due to (1) creating @tf.function repeatedly in a loop, (2) passing tensors with different shapes, (3) passing Python objects instead of tensors. For (1), please define your @tf.function outside of the loop. For (2), @tf.function has experimental_relax_shapes=True option that relaxes argument shapes that can avoid unnecessary retracing. For (3), please refer to https://www.tensorflow.org/guide/function#controlling_retracing and https://www.tensorflow.org/api_docs/python/tf/function for  more details.\n",
            "TRAINING: Epoch 0, Step 50, AUC train: 0.5587180852890015, AUC_Mean: 0.5984800457954407, AUC train Card: 0.6394307017326355\n",
            "TRAINING: Epoch 0, Step 100, AUC train: 0.636999785900116, AUC_Mean: 0.6350597739219666, AUC train Card: 0.7026612758636475\n",
            "TRAINING: Epoch 0, Step 150, AUC train: 0.6881552934646606, AUC_Mean: 0.6487451791763306, AUC train Card: 0.7258045673370361\n",
            "TRAINING: Epoch 0, Step 200, AUC train: 0.7149547934532166, AUC_Mean: 0.6483873128890991, AUC train Card: 0.7096723318099976\n",
            "TRAINING: Epoch 0, Step 250, AUC train: 0.7269362211227417, AUC_Mean: 0.6439317464828491, AUC train Card: 0.6942556500434875\n",
            "TRAINING: Epoch 0, Step 300, AUC train: 0.7346120476722717, AUC_Mean: 0.6371899843215942, AUC train Card: 0.6741076111793518\n",
            "TRAINING: Epoch 0, Step 350, AUC train: 0.7373342514038086, AUC_Mean: 0.6307593584060669, AUC train Card: 0.6610312461853027\n",
            "TRAINING: Epoch 0, Step 400, AUC train: 0.7381327748298645, AUC_Mean: 0.6250972151756287, AUC train Card: 0.6507090330123901\n",
            "TRAINING: Epoch 0, Step 450, AUC train: 0.737095832824707, AUC_Mean: 0.6221981048583984, AUC train Card: 0.644485354423523\n",
            "TRAINING: Epoch 0, Step 500, AUC train: 0.7364168167114258, AUC_Mean: 0.619120717048645, AUC train Card: 0.6381080150604248\n",
            "TRAINING: Epoch 0, Step 550, AUC train: 0.7356671094894409, AUC_Mean: 0.6164097785949707, AUC train Card: 0.6327627301216125\n",
            "VALIDATION client_0: Epoch 1, Step 0, AUC valid: 0.7701159715652466, AUC_Mean: 0.5604149103164673, AUC valid Card: 0.4029017686843872\n",
            "VALIDATION client_0: Epoch 1, Step 50, AUC valid: 0.743577241897583, AUC_Mean: 0.5292514562606812, AUC valid Card: 0.4638215899467468\n",
            "VALIDATION client_0: Epoch 1, Step 100, AUC valid: 0.7418832778930664, AUC_Mean: 0.5318437218666077, AUC valid Card: 0.46459153294563293\n",
            "VALIDATION client_0: Epoch 1, Step 150, AUC valid: 0.7416059374809265, AUC_Mean: 0.5309895873069763, AUC valid Card: 0.46468618512153625\n",
            "VALIDATION client_0: Epoch 1, Step 200, AUC valid: 0.7414102554321289, AUC_Mean: 0.5314323306083679, AUC valid Card: 0.4660877585411072\n",
            "VALIDATION client_1: Epoch 1, Step 0, AUC valid: 0.7415300607681274, AUC_Mean: 0.5314872860908508, AUC valid Card: 0.4654543101787567\n",
            "VALIDATION client_1: Epoch 1, Step 50, AUC valid: 0.7417863607406616, AUC_Mean: 0.5311864018440247, AUC valid Card: 0.46615156531333923\n",
            "VALIDATION client_1: Epoch 1, Step 100, AUC valid: 0.741456151008606, AUC_Mean: 0.5316742062568665, AUC valid Card: 0.4654964208602905\n",
            "VALIDATION client_1: Epoch 1, Step 150, AUC valid: 0.7414137125015259, AUC_Mean: 0.5313783884048462, AUC valid Card: 0.4652012884616852\n",
            "VALIDATION client_1: Epoch 1, Step 200, AUC valid: 0.7412639260292053, AUC_Mean: 0.5312680602073669, AUC valid Card: 0.46528029441833496\n",
            "VALIDATION client_2: Epoch 1, Step 0, AUC valid: 0.7413265109062195, AUC_Mean: 0.5312684774398804, AUC valid Card: 0.46498462557792664\n",
            "VALIDATION client_2: Epoch 1, Step 50, AUC valid: 0.7414454221725464, AUC_Mean: 0.5312691926956177, AUC valid Card: 0.4654340147972107\n",
            "VALIDATION client_2: Epoch 1, Step 100, AUC valid: 0.7412994503974915, AUC_Mean: 0.5312952399253845, AUC valid Card: 0.46458885073661804\n",
            "VALIDATION client_2: Epoch 1, Step 150, AUC valid: 0.7412530183792114, AUC_Mean: 0.5309732556343079, AUC valid Card: 0.46383780241012573\n",
            "VALIDATION client_2: Epoch 1, Step 200, AUC valid: 0.741228461265564, AUC_Mean: 0.5311259031295776, AUC valid Card: 0.4642017185688019\n",
            "VALIDATION client_3: Epoch 1, Step 0, AUC valid: 0.741264283657074, AUC_Mean: 0.5310887098312378, AUC valid Card: 0.46407294273376465\n",
            "VALIDATION client_3: Epoch 1, Step 50, AUC valid: 0.7414515018463135, AUC_Mean: 0.5308995842933655, AUC valid Card: 0.46520283818244934\n",
            "VALIDATION client_3: Epoch 1, Step 100, AUC valid: 0.7413956522941589, AUC_Mean: 0.530453085899353, AUC valid Card: 0.4645225703716278\n",
            "VALIDATION client_3: Epoch 1, Step 150, AUC valid: 0.7413635849952698, AUC_Mean: 0.5299058556556702, AUC valid Card: 0.4648972153663635\n",
            "VALIDATION client_3: Epoch 1, Step 200, AUC valid: 0.7413721084594727, AUC_Mean: 0.5297079682350159, AUC valid Card: 0.4645516872406006\n",
            "VALIDATION client_4: Epoch 1, Step 0, AUC valid: 0.741411030292511, AUC_Mean: 0.5297235250473022, AUC valid Card: 0.46441319584846497\n",
            "VALIDATION client_4: Epoch 1, Step 50, AUC valid: 0.7415789365768433, AUC_Mean: 0.5294410586357117, AUC valid Card: 0.464760959148407\n",
            "VALIDATION client_4: Epoch 1, Step 100, AUC valid: 0.7415333986282349, AUC_Mean: 0.5292829275131226, AUC valid Card: 0.4649544656276703\n",
            "VALIDATION client_4: Epoch 1, Step 150, AUC valid: 0.7414902448654175, AUC_Mean: 0.528823733329773, AUC valid Card: 0.4650859832763672\n",
            "VALIDATION client_4: Epoch 1, Step 200, AUC valid: 0.7415031790733337, AUC_Mean: 0.5287134051322937, AUC valid Card: 0.4660392105579376\n",
            "   Epoch  auc_train  ...  auc_valid_atel  auc_valid_peff\n",
            "0      0   0.735475  ...        0.526639        0.600414\n",
            "\n",
            "[1 rows x 15 columns]\n",
            "Start of epoch 1\n",
            "TRAINING: Epoch 1, Step 50, AUC train: 0.8204212784767151, AUC_Mean: 0.697319746017456, AUC train Card: 0.7778875231742859\n",
            "TRAINING: Epoch 1, Step 100, AUC train: 0.8240668773651123, AUC_Mean: 0.69493567943573, AUC train Card: 0.7776200175285339\n",
            "TRAINING: Epoch 1, Step 150, AUC train: 0.8247793316841125, AUC_Mean: 0.6843511462211609, AUC train Card: 0.7771872878074646\n",
            "TRAINING: Epoch 1, Step 200, AUC train: 0.8222764730453491, AUC_Mean: 0.669797956943512, AUC train Card: 0.7330368757247925\n",
            "TRAINING: Epoch 1, Step 250, AUC train: 0.8163429498672485, AUC_Mean: 0.654342770576477, AUC train Card: 0.703726053237915\n",
            "TRAINING: Epoch 1, Step 300, AUC train: 0.8127835392951965, AUC_Mean: 0.6450944542884827, AUC train Card: 0.6807020902633667\n",
            "TRAINING: Epoch 1, Step 350, AUC train: 0.8077854514122009, AUC_Mean: 0.6353509426116943, AUC train Card: 0.6629630923271179\n",
            "TRAINING: Epoch 1, Step 400, AUC train: 0.8029760122299194, AUC_Mean: 0.6280530095100403, AUC train Card: 0.6499069929122925\n",
            "TRAINING: Epoch 1, Step 450, AUC train: 0.7977487444877625, AUC_Mean: 0.6241151094436646, AUC train Card: 0.6409685611724854\n",
            "TRAINING: Epoch 1, Step 500, AUC train: 0.7939473390579224, AUC_Mean: 0.6213787198066711, AUC train Card: 0.6334643363952637\n",
            "TRAINING: Epoch 1, Step 550, AUC train: 0.7907715439796448, AUC_Mean: 0.6192652583122253, AUC train Card: 0.6276496648788452\n",
            "VALIDATION client_0: Epoch 2, Step 0, AUC valid: 0.7767931818962097, AUC_Mean: 0.5359674692153931, AUC valid Card: 0.4174107015132904\n",
            "VALIDATION client_0: Epoch 2, Step 50, AUC valid: 0.7563596367835999, AUC_Mean: 0.5504172444343567, AUC valid Card: 0.4860341250896454\n",
            "VALIDATION client_0: Epoch 2, Step 100, AUC valid: 0.7550229430198669, AUC_Mean: 0.5516030192375183, AUC valid Card: 0.4846538305282593\n",
            "VALIDATION client_0: Epoch 2, Step 150, AUC valid: 0.7545346617698669, AUC_Mean: 0.5512924790382385, AUC valid Card: 0.4840863347053528\n",
            "VALIDATION client_0: Epoch 2, Step 200, AUC valid: 0.7541438341140747, AUC_Mean: 0.5506293177604675, AUC valid Card: 0.48252686858177185\n",
            "VALIDATION client_1: Epoch 2, Step 0, AUC valid: 0.7542638182640076, AUC_Mean: 0.5505332946777344, AUC valid Card: 0.4816398620605469\n",
            "VALIDATION client_1: Epoch 2, Step 50, AUC valid: 0.7546514272689819, AUC_Mean: 0.5510122776031494, AUC valid Card: 0.4816027879714966\n",
            "VALIDATION client_1: Epoch 2, Step 100, AUC valid: 0.7544274926185608, AUC_Mean: 0.5523222088813782, AUC valid Card: 0.47963741421699524\n",
            "VALIDATION client_1: Epoch 2, Step 150, AUC valid: 0.7543869018554688, AUC_Mean: 0.5525182485580444, AUC valid Card: 0.4784085154533386\n",
            "VALIDATION client_1: Epoch 2, Step 200, AUC valid: 0.7542823553085327, AUC_Mean: 0.5528848767280579, AUC valid Card: 0.4779568016529083\n",
            "VALIDATION client_2: Epoch 2, Step 0, AUC valid: 0.7543340921401978, AUC_Mean: 0.5528305768966675, AUC valid Card: 0.47766995429992676\n",
            "VALIDATION client_2: Epoch 2, Step 50, AUC valid: 0.7544797658920288, AUC_Mean: 0.5527717471122742, AUC valid Card: 0.47802770137786865\n",
            "VALIDATION client_2: Epoch 2, Step 100, AUC valid: 0.7542882561683655, AUC_Mean: 0.553118109703064, AUC valid Card: 0.4773555397987366\n",
            "VALIDATION client_2: Epoch 2, Step 150, AUC valid: 0.7541823387145996, AUC_Mean: 0.5527948141098022, AUC valid Card: 0.47628554701805115\n",
            "VALIDATION client_2: Epoch 2, Step 200, AUC valid: 0.7541093826293945, AUC_Mean: 0.5529097318649292, AUC valid Card: 0.4767742156982422\n",
            "VALIDATION client_3: Epoch 2, Step 0, AUC valid: 0.7541415691375732, AUC_Mean: 0.5528610944747925, AUC valid Card: 0.4766888916492462\n",
            "VALIDATION client_3: Epoch 2, Step 50, AUC valid: 0.7543125152587891, AUC_Mean: 0.552757203578949, AUC valid Card: 0.4776340126991272\n",
            "VALIDATION client_3: Epoch 2, Step 100, AUC valid: 0.7542511820793152, AUC_Mean: 0.5525981187820435, AUC valid Card: 0.4767492711544037\n",
            "VALIDATION client_3: Epoch 2, Step 150, AUC valid: 0.7541893720626831, AUC_Mean: 0.5521529912948608, AUC valid Card: 0.47695234417915344\n",
            "VALIDATION client_3: Epoch 2, Step 200, AUC valid: 0.7541568875312805, AUC_Mean: 0.552000105381012, AUC valid Card: 0.47639262676239014\n",
            "VALIDATION client_4: Epoch 2, Step 0, AUC valid: 0.7541977763175964, AUC_Mean: 0.5520282983779907, AUC valid Card: 0.4763394296169281\n",
            "VALIDATION client_4: Epoch 2, Step 50, AUC valid: 0.7543089985847473, AUC_Mean: 0.5518826246261597, AUC valid Card: 0.47695013880729675\n",
            "VALIDATION client_4: Epoch 2, Step 100, AUC valid: 0.7542585730552673, AUC_Mean: 0.5518703460693359, AUC valid Card: 0.476411908864975\n",
            "VALIDATION client_4: Epoch 2, Step 150, AUC valid: 0.7541648745536804, AUC_Mean: 0.5513826608657837, AUC valid Card: 0.4766339063644409\n",
            "VALIDATION client_4: Epoch 2, Step 200, AUC valid: 0.7541531920433044, AUC_Mean: 0.5513717532157898, AUC valid Card: 0.4768648147583008\n",
            "   Epoch  auc_train  ...  auc_valid_atel  auc_valid_peff\n",
            "0      0   0.735475  ...        0.526639        0.600414\n",
            "1      1   0.790280  ...        0.537939        0.634348\n",
            "\n",
            "[2 rows x 15 columns]\n",
            "Start of epoch 2\n",
            "TRAINING: Epoch 2, Step 50, AUC train: 0.8287253975868225, AUC_Mean: 0.7054665684700012, AUC train Card: 0.7788289785385132\n",
            "TRAINING: Epoch 2, Step 100, AUC train: 0.8310222029685974, AUC_Mean: 0.7028577923774719, AUC train Card: 0.7794553637504578\n",
            "TRAINING: Epoch 2, Step 150, AUC train: 0.83101886510849, AUC_Mean: 0.6916391849517822, AUC train Card: 0.7784647345542908\n",
            "TRAINING: Epoch 2, Step 200, AUC train: 0.8283799886703491, AUC_Mean: 0.6766276359558105, AUC train Card: 0.7326934337615967\n",
            "TRAINING: Epoch 2, Step 250, AUC train: 0.8226286768913269, AUC_Mean: 0.6613279581069946, AUC train Card: 0.7033697962760925\n",
            "TRAINING: Epoch 2, Step 300, AUC train: 0.819229245185852, AUC_Mean: 0.6526020765304565, AUC train Card: 0.6813632249832153\n",
            "TRAINING: Epoch 2, Step 350, AUC train: 0.8144612908363342, AUC_Mean: 0.6435717940330505, AUC train Card: 0.664267897605896\n",
            "TRAINING: Epoch 2, Step 400, AUC train: 0.8098552823066711, AUC_Mean: 0.6370340585708618, AUC train Card: 0.6517302393913269\n",
            "TRAINING: Epoch 2, Step 450, AUC train: 0.8048444986343384, AUC_Mean: 0.6338326334953308, AUC train Card: 0.6432440876960754\n",
            "TRAINING: Epoch 2, Step 500, AUC train: 0.8011826276779175, AUC_Mean: 0.631628692150116, AUC train Card: 0.6363012790679932\n",
            "TRAINING: Epoch 2, Step 550, AUC train: 0.7980940341949463, AUC_Mean: 0.629884660243988, AUC train Card: 0.6308639645576477\n",
            "VALIDATION client_0: Epoch 3, Step 0, AUC valid: 0.7827235460281372, AUC_Mean: 0.5434849262237549, AUC valid Card: 0.4107142686843872\n",
            "VALIDATION client_0: Epoch 3, Step 50, AUC valid: 0.7632367014884949, AUC_Mean: 0.5719268918037415, AUC valid Card: 0.5005747675895691\n",
            "VALIDATION client_0: Epoch 3, Step 100, AUC valid: 0.7617979049682617, AUC_Mean: 0.5732975006103516, AUC valid Card: 0.4961182475090027\n",
            "VALIDATION client_0: Epoch 3, Step 150, AUC valid: 0.7613376379013062, AUC_Mean: 0.5730887651443481, AUC valid Card: 0.49567335844039917\n",
            "VALIDATION client_0: Epoch 3, Step 200, AUC valid: 0.7610680460929871, AUC_Mean: 0.5728594064712524, AUC valid Card: 0.49389562010765076\n",
            "VALIDATION client_1: Epoch 3, Step 0, AUC valid: 0.7611970901489258, AUC_Mean: 0.5727981925010681, AUC valid Card: 0.4931155741214752\n",
            "VALIDATION client_1: Epoch 3, Step 50, AUC valid: 0.7616701126098633, AUC_Mean: 0.5730751156806946, AUC valid Card: 0.4941006600856781\n",
            "VALIDATION client_1: Epoch 3, Step 100, AUC valid: 0.7614584565162659, AUC_Mean: 0.5740529298782349, AUC valid Card: 0.49200570583343506\n",
            "VALIDATION client_1: Epoch 3, Step 150, AUC valid: 0.7614602446556091, AUC_Mean: 0.5740833878517151, AUC valid Card: 0.48994386196136475\n",
            "VALIDATION client_1: Epoch 3, Step 200, AUC valid: 0.7613398432731628, AUC_Mean: 0.5740827918052673, AUC valid Card: 0.4894055426120758\n",
            "VALIDATION client_2: Epoch 3, Step 0, AUC valid: 0.7613897919654846, AUC_Mean: 0.5740092992782593, AUC valid Card: 0.48905283212661743\n",
            "VALIDATION client_2: Epoch 3, Step 50, AUC valid: 0.761544942855835, AUC_Mean: 0.573820948600769, AUC valid Card: 0.4893246293067932\n",
            "VALIDATION client_2: Epoch 3, Step 100, AUC valid: 0.7613916397094727, AUC_Mean: 0.5740787386894226, AUC valid Card: 0.48838263750076294\n",
            "VALIDATION client_2: Epoch 3, Step 150, AUC valid: 0.7613175511360168, AUC_Mean: 0.5737987756729126, AUC valid Card: 0.48743098974227905\n",
            "VALIDATION client_2: Epoch 3, Step 200, AUC valid: 0.7612348794937134, AUC_Mean: 0.5737159252166748, AUC valid Card: 0.4880506992340088\n",
            "VALIDATION client_3: Epoch 3, Step 0, AUC valid: 0.7612638473510742, AUC_Mean: 0.5736499428749084, AUC valid Card: 0.48791375756263733\n",
            "VALIDATION client_3: Epoch 3, Step 50, AUC valid: 0.7614239454269409, AUC_Mean: 0.573506236076355, AUC valid Card: 0.48930463194847107\n",
            "VALIDATION client_3: Epoch 3, Step 100, AUC valid: 0.7613582611083984, AUC_Mean: 0.5733120441436768, AUC valid Card: 0.4884175956249237\n",
            "VALIDATION client_3: Epoch 3, Step 150, AUC valid: 0.7612850069999695, AUC_Mean: 0.5728417038917542, AUC valid Card: 0.4888264238834381\n",
            "VALIDATION client_3: Epoch 3, Step 200, AUC valid: 0.7612258791923523, AUC_Mean: 0.5725913643836975, AUC valid Card: 0.48853471875190735\n",
            "VALIDATION client_4: Epoch 3, Step 0, AUC valid: 0.7612659931182861, AUC_Mean: 0.5726169347763062, AUC valid Card: 0.4884718060493469\n",
            "VALIDATION client_4: Epoch 3, Step 50, AUC valid: 0.76131671667099, AUC_Mean: 0.572287917137146, AUC valid Card: 0.48846155405044556\n",
            "VALIDATION client_4: Epoch 3, Step 100, AUC valid: 0.761182963848114, AUC_Mean: 0.5721282958984375, AUC valid Card: 0.48826172947883606\n",
            "VALIDATION client_4: Epoch 3, Step 150, AUC valid: 0.7610462307929993, AUC_Mean: 0.5715883374214172, AUC valid Card: 0.48804107308387756\n",
            "VALIDATION client_4: Epoch 3, Step 200, AUC valid: 0.7609742879867554, AUC_Mean: 0.5713187456130981, AUC valid Card: 0.4883391261100769\n",
            "   Epoch  auc_train  ...  auc_valid_atel  auc_valid_peff\n",
            "0      0   0.735475  ...        0.526639        0.600414\n",
            "1      1   0.790280  ...        0.537939        0.634348\n",
            "2      2   0.797626  ...        0.551448        0.656890\n",
            "\n",
            "[3 rows x 15 columns]\n",
            "Start of epoch 3\n",
            "TRAINING: Epoch 3, Step 50, AUC train: 0.8327381610870361, AUC_Mean: 0.7133690118789673, AUC train Card: 0.7840554118156433\n",
            "TRAINING: Epoch 3, Step 100, AUC train: 0.8347928524017334, AUC_Mean: 0.7103795409202576, AUC train Card: 0.7840443253517151\n",
            "TRAINING: Epoch 3, Step 150, AUC train: 0.8346938490867615, AUC_Mean: 0.6990786790847778, AUC train Card: 0.7829297780990601\n",
            "TRAINING: Epoch 3, Step 200, AUC train: 0.8320570588111877, AUC_Mean: 0.6842430233955383, AUC train Card: 0.737305760383606\n",
            "TRAINING: Epoch 3, Step 250, AUC train: 0.8264387845993042, AUC_Mean: 0.6692273020744324, AUC train Card: 0.7081935405731201\n",
            "TRAINING: Epoch 3, Step 300, AUC train: 0.8231282234191895, AUC_Mean: 0.6607738733291626, AUC train Card: 0.6867862343788147\n",
            "TRAINING: Epoch 3, Step 350, AUC train: 0.8184743523597717, AUC_Mean: 0.6523565649986267, AUC train Card: 0.6701378226280212\n",
            "TRAINING: Epoch 3, Step 400, AUC train: 0.8139857649803162, AUC_Mean: 0.646462082862854, AUC train Card: 0.6582738757133484\n",
            "TRAINING: Epoch 3, Step 450, AUC train: 0.8091152906417847, AUC_Mean: 0.643812894821167, AUC train Card: 0.6500721573829651\n",
            "TRAINING: Epoch 3, Step 500, AUC train: 0.8055145144462585, AUC_Mean: 0.6418486833572388, AUC train Card: 0.6432379484176636\n",
            "TRAINING: Epoch 3, Step 550, AUC train: 0.802497386932373, AUC_Mean: 0.6403236389160156, AUC train Card: 0.6379181742668152\n",
            "VALIDATION client_0: Epoch 4, Step 0, AUC valid: 0.7872005105018616, AUC_Mean: 0.5624966621398926, AUC valid Card: 0.4341517984867096\n",
            "VALIDATION client_0: Epoch 4, Step 50, AUC valid: 0.7687938213348389, AUC_Mean: 0.5877503156661987, AUC valid Card: 0.5125765204429626\n",
            "VALIDATION client_0: Epoch 4, Step 100, AUC valid: 0.7672959566116333, AUC_Mean: 0.5887591242790222, AUC valid Card: 0.5068668127059937\n",
            "VALIDATION client_0: Epoch 4, Step 150, AUC valid: 0.766839325428009, AUC_Mean: 0.5886940360069275, AUC valid Card: 0.5072630643844604\n",
            "VALIDATION client_0: Epoch 4, Step 200, AUC valid: 0.7664737105369568, AUC_Mean: 0.5878764986991882, AUC valid Card: 0.5061866641044617\n",
            "VALIDATION client_1: Epoch 4, Step 0, AUC valid: 0.7665939331054688, AUC_Mean: 0.5878251194953918, AUC valid Card: 0.5053159594535828\n",
            "VALIDATION client_1: Epoch 4, Step 50, AUC valid: 0.7670918703079224, AUC_Mean: 0.5881785154342651, AUC valid Card: 0.506893515586853\n",
            "VALIDATION client_1: Epoch 4, Step 100, AUC valid: 0.7668955326080322, AUC_Mean: 0.5893386602401733, AUC valid Card: 0.5049315690994263\n",
            "VALIDATION client_1: Epoch 4, Step 150, AUC valid: 0.7669125199317932, AUC_Mean: 0.5895888209342957, AUC valid Card: 0.503852128982544\n",
            "VALIDATION client_1: Epoch 4, Step 200, AUC valid: 0.7667776346206665, AUC_Mean: 0.5894777178764343, AUC valid Card: 0.5030220150947571\n",
            "VALIDATION client_2: Epoch 4, Step 0, AUC valid: 0.7668306827545166, AUC_Mean: 0.5894304513931274, AUC valid Card: 0.5027134418487549\n",
            "VALIDATION client_2: Epoch 4, Step 50, AUC valid: 0.767000675201416, AUC_Mean: 0.5892637968063354, AUC valid Card: 0.5032306909561157\n",
            "VALIDATION client_2: Epoch 4, Step 100, AUC valid: 0.7668377757072449, AUC_Mean: 0.5896446704864502, AUC valid Card: 0.5023370385169983\n",
            "VALIDATION client_2: Epoch 4, Step 150, AUC valid: 0.7667574286460876, AUC_Mean: 0.5894132256507874, AUC valid Card: 0.5011938214302063\n",
            "VALIDATION client_2: Epoch 4, Step 200, AUC valid: 0.7666682004928589, AUC_Mean: 0.5892987251281738, AUC valid Card: 0.5014435648918152\n",
            "VALIDATION client_3: Epoch 4, Step 0, AUC valid: 0.766693651676178, AUC_Mean: 0.5892273783683777, AUC valid Card: 0.5012989044189453\n",
            "VALIDATION client_3: Epoch 4, Step 50, AUC valid: 0.7668411135673523, AUC_Mean: 0.5890762209892273, AUC valid Card: 0.5025917887687683\n",
            "VALIDATION client_3: Epoch 4, Step 100, AUC valid: 0.7667595148086548, AUC_Mean: 0.589030385017395, AUC valid Card: 0.5016729831695557\n",
            "VALIDATION client_3: Epoch 4, Step 150, AUC valid: 0.7666601538658142, AUC_Mean: 0.5886504650115967, AUC valid Card: 0.5020370483398438\n",
            "VALIDATION client_3: Epoch 4, Step 200, AUC valid: 0.7665661573410034, AUC_Mean: 0.5883234739303589, AUC valid Card: 0.5016508102416992\n",
            "VALIDATION client_4: Epoch 4, Step 0, AUC valid: 0.7666024565696716, AUC_Mean: 0.5883565545082092, AUC valid Card: 0.5015580058097839\n",
            "VALIDATION client_4: Epoch 4, Step 50, AUC valid: 0.7666597962379456, AUC_Mean: 0.5882420539855957, AUC valid Card: 0.5020593404769897\n",
            "VALIDATION client_4: Epoch 4, Step 100, AUC valid: 0.766499936580658, AUC_Mean: 0.5881366729736328, AUC valid Card: 0.5013392567634583\n",
            "VALIDATION client_4: Epoch 4, Step 150, AUC valid: 0.7663578987121582, AUC_Mean: 0.5877209901809692, AUC valid Card: 0.5014846324920654\n",
            "VALIDATION client_4: Epoch 4, Step 200, AUC valid: 0.7662649750709534, AUC_Mean: 0.5876168012619019, AUC valid Card: 0.502220094203949\n",
            "   Epoch  auc_train  ...  auc_valid_atel  auc_valid_peff\n",
            "0      0   0.735475  ...        0.526639        0.600414\n",
            "1      1   0.790280  ...        0.537939        0.634348\n",
            "2      2   0.797626  ...        0.551448        0.656890\n",
            "3      3   0.802040  ...        0.562106        0.674958\n",
            "\n",
            "[4 rows x 15 columns]\n",
            "Start of epoch 4\n",
            "TRAINING: Epoch 4, Step 50, AUC train: 0.835403323173523, AUC_Mean: 0.7193864583969116, AUC train Card: 0.7883327603340149\n",
            "TRAINING: Epoch 4, Step 100, AUC train: 0.8373094201087952, AUC_Mean: 0.7159349322319031, AUC train Card: 0.7874998450279236\n",
            "TRAINING: Epoch 4, Step 150, AUC train: 0.8371902704238892, AUC_Mean: 0.704602062702179, AUC train Card: 0.7866005301475525\n",
            "TRAINING: Epoch 4, Step 200, AUC train: 0.8345999717712402, AUC_Mean: 0.6899666786193848, AUC train Card: 0.7412212491035461\n",
            "TRAINING: Epoch 4, Step 250, AUC train: 0.8290826082229614, AUC_Mean: 0.6753486394882202, AUC train Card: 0.712831437587738\n",
            "TRAINING: Epoch 4, Step 300, AUC train: 0.8258277177810669, AUC_Mean: 0.6671462059020996, AUC train Card: 0.6920507550239563\n",
            "TRAINING: Epoch 4, Step 350, AUC train: 0.8212881684303284, AUC_Mean: 0.659254252910614, AUC train Card: 0.675987958908081\n",
            "TRAINING: Epoch 4, Step 400, AUC train: 0.8169140815734863, AUC_Mean: 0.653859555721283, AUC train Card: 0.6646276712417603\n",
            "TRAINING: Epoch 4, Step 450, AUC train: 0.8121660947799683, AUC_Mean: 0.651674747467041, AUC train Card: 0.6567496061325073\n",
            "TRAINING: Epoch 4, Step 500, AUC train: 0.8086628913879395, AUC_Mean: 0.6501128077507019, AUC train Card: 0.6503868103027344\n",
            "TRAINING: Epoch 4, Step 550, AUC train: 0.8057206273078918, AUC_Mean: 0.6488814949989319, AUC train Card: 0.645399808883667\n",
            "VALIDATION client_0: Epoch 5, Step 0, AUC valid: 0.7914485335350037, AUC_Mean: 0.5758603811264038, AUC valid Card: 0.4375000298023224\n",
            "VALIDATION client_0: Epoch 5, Step 50, AUC valid: 0.7730758190155029, AUC_Mean: 0.6017648577690125, AUC valid Card: 0.5259435176849365\n",
            "VALIDATION client_0: Epoch 5, Step 100, AUC valid: 0.7715038061141968, AUC_Mean: 0.6030181646347046, AUC valid Card: 0.5195468664169312\n",
            "VALIDATION client_0: Epoch 5, Step 150, AUC valid: 0.7710657715797424, AUC_Mean: 0.6029939651489258, AUC valid Card: 0.5198585987091064\n",
            "VALIDATION client_0: Epoch 5, Step 200, AUC valid: 0.7706875801086426, AUC_Mean: 0.6020111441612244, AUC valid Card: 0.5185887217521667\n",
            "VALIDATION client_1: Epoch 5, Step 0, AUC valid: 0.7708069086074829, AUC_Mean: 0.6019777655601501, AUC valid Card: 0.5178015828132629\n",
            "VALIDATION client_1: Epoch 5, Step 50, AUC valid: 0.7713452577590942, AUC_Mean: 0.6021893620491028, AUC valid Card: 0.5198168158531189\n",
            "VALIDATION client_1: Epoch 5, Step 100, AUC valid: 0.7711635231971741, AUC_Mean: 0.603097140789032, AUC valid Card: 0.517608106136322\n",
            "VALIDATION client_1: Epoch 5, Step 150, AUC valid: 0.7711510062217712, AUC_Mean: 0.6032767295837402, AUC valid Card: 0.516004204750061\n",
            "VALIDATION client_1: Epoch 5, Step 200, AUC valid: 0.7710328102111816, AUC_Mean: 0.6030569672584534, AUC valid Card: 0.5152803659439087\n",
            "VALIDATION client_2: Epoch 5, Step 0, AUC valid: 0.7710822224617004, AUC_Mean: 0.6029993295669556, AUC valid Card: 0.5149120092391968\n",
            "VALIDATION client_2: Epoch 5, Step 50, AUC valid: 0.771278977394104, AUC_Mean: 0.6028491854667664, AUC valid Card: 0.5157069563865662\n",
            "VALIDATION client_2: Epoch 5, Step 100, AUC valid: 0.7711330652236938, AUC_Mean: 0.6032137274742126, AUC valid Card: 0.5147351026535034\n",
            "VALIDATION client_2: Epoch 5, Step 150, AUC valid: 0.771048903465271, AUC_Mean: 0.6030243039131165, AUC valid Card: 0.513599157333374\n",
            "VALIDATION client_2: Epoch 5, Step 200, AUC valid: 0.7709642648696899, AUC_Mean: 0.6028746366500854, AUC valid Card: 0.5140918493270874\n",
            "VALIDATION client_3: Epoch 5, Step 0, AUC valid: 0.7709888815879822, AUC_Mean: 0.602807343006134, AUC valid Card: 0.5139500498771667\n",
            "VALIDATION client_3: Epoch 5, Step 50, AUC valid: 0.7711387276649475, AUC_Mean: 0.6027268171310425, AUC valid Card: 0.5155529379844666\n",
            "VALIDATION client_3: Epoch 5, Step 100, AUC valid: 0.7710509896278381, AUC_Mean: 0.6027025580406189, AUC valid Card: 0.5146657228469849\n",
            "VALIDATION client_3: Epoch 5, Step 150, AUC valid: 0.7709404230117798, AUC_Mean: 0.6023823022842407, AUC valid Card: 0.5150981545448303\n",
            "VALIDATION client_3: Epoch 5, Step 200, AUC valid: 0.7708403468132019, AUC_Mean: 0.6020119190216064, AUC valid Card: 0.5148061513900757\n",
            "VALIDATION client_4: Epoch 5, Step 0, AUC valid: 0.7708753347396851, AUC_Mean: 0.6020467877388, AUC valid Card: 0.5147488117218018\n",
            "VALIDATION client_4: Epoch 5, Step 50, AUC valid: 0.7709285020828247, AUC_Mean: 0.6018654704093933, AUC valid Card: 0.5152681469917297\n",
            "VALIDATION client_4: Epoch 5, Step 100, AUC valid: 0.7707709670066833, AUC_Mean: 0.601718544960022, AUC valid Card: 0.5145460367202759\n",
            "VALIDATION client_4: Epoch 5, Step 150, AUC valid: 0.7706366181373596, AUC_Mean: 0.6014174222946167, AUC valid Card: 0.5148048400878906\n",
            "VALIDATION client_4: Epoch 5, Step 200, AUC valid: 0.770536482334137, AUC_Mean: 0.6012023687362671, AUC valid Card: 0.5155184268951416\n",
            "   Epoch  auc_train  ...  auc_valid_atel  auc_valid_peff\n",
            "0      0   0.735475  ...        0.526639        0.600414\n",
            "1      1   0.790280  ...        0.537939        0.634348\n",
            "2      2   0.797626  ...        0.551448        0.656890\n",
            "3      3   0.802040  ...        0.562106        0.674958\n",
            "4      4   0.805275  ...        0.572245        0.688616\n",
            "\n",
            "[5 rows x 15 columns]\n",
            "Metric did not increase for the last 4 epochs.\n",
            "Callback_EarlyStopping signal received at epoch = 5/10\n",
            "Terminating training \n"
          ],
          "name": "stdout"
        }
      ]
    },
    {
      "cell_type": "code",
      "metadata": {
        "id": "WRv_rnFb3VH_"
      },
      "source": [
        "'''\n",
        "iterative training con COARSE grain\n",
        ":param split_layer: split layer tra client e server\n",
        ":param epochs: number of epochs\n",
        "'''\n",
        "\n",
        "sp.iterative_training_coarse(split_layer=60, epochs=10)"
      ],
      "execution_count": null,
      "outputs": []
    }
  ]
}